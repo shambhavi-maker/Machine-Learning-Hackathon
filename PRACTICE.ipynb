{
 "cells": [
  {
   "cell_type": "code",
   "execution_count": 1,
   "id": "7f3693aa",
   "metadata": {},
   "outputs": [],
   "source": [
    "import numpy as np\n",
    "import pandas as pd"
   ]
  },
  {
   "cell_type": "code",
   "execution_count": 2,
   "id": "22c52b05",
   "metadata": {},
   "outputs": [
    {
     "data": {
      "text/html": [
       "<div>\n",
       "<style scoped>\n",
       "    .dataframe tbody tr th:only-of-type {\n",
       "        vertical-align: middle;\n",
       "    }\n",
       "\n",
       "    .dataframe tbody tr th {\n",
       "        vertical-align: top;\n",
       "    }\n",
       "\n",
       "    .dataframe thead th {\n",
       "        text-align: right;\n",
       "    }\n",
       "</style>\n",
       "<table border=\"1\" class=\"dataframe\">\n",
       "  <thead>\n",
       "    <tr style=\"text-align: right;\">\n",
       "      <th></th>\n",
       "      <th>input</th>\n",
       "      <th>output</th>\n",
       "    </tr>\n",
       "  </thead>\n",
       "  <tbody>\n",
       "    <tr>\n",
       "      <th>0</th>\n",
       "      <td>-122.740667</td>\n",
       "      <td>-130.572085</td>\n",
       "    </tr>\n",
       "    <tr>\n",
       "      <th>1</th>\n",
       "      <td>-121.531419</td>\n",
       "      <td>-129.938929</td>\n",
       "    </tr>\n",
       "    <tr>\n",
       "      <th>2</th>\n",
       "      <td>-134.917019</td>\n",
       "      <td>-130.141832</td>\n",
       "    </tr>\n",
       "    <tr>\n",
       "      <th>3</th>\n",
       "      <td>-120.605951</td>\n",
       "      <td>-125.760932</td>\n",
       "    </tr>\n",
       "    <tr>\n",
       "      <th>4</th>\n",
       "      <td>-129.894781</td>\n",
       "      <td>-112.785214</td>\n",
       "    </tr>\n",
       "    <tr>\n",
       "      <th>...</th>\n",
       "      <td>...</td>\n",
       "      <td>...</td>\n",
       "    </tr>\n",
       "    <tr>\n",
       "      <th>1692</th>\n",
       "      <td>25.410184</td>\n",
       "      <td>-76.380902</td>\n",
       "    </tr>\n",
       "    <tr>\n",
       "      <th>1693</th>\n",
       "      <td>29.537304</td>\n",
       "      <td>-82.796934</td>\n",
       "    </tr>\n",
       "    <tr>\n",
       "      <th>1694</th>\n",
       "      <td>31.633331</td>\n",
       "      <td>-87.000000</td>\n",
       "    </tr>\n",
       "    <tr>\n",
       "      <th>1695</th>\n",
       "      <td>29.091458</td>\n",
       "      <td>-104.943052</td>\n",
       "    </tr>\n",
       "    <tr>\n",
       "      <th>1696</th>\n",
       "      <td>17.145296</td>\n",
       "      <td>-101.726894</td>\n",
       "    </tr>\n",
       "  </tbody>\n",
       "</table>\n",
       "<p>1697 rows × 2 columns</p>\n",
       "</div>"
      ],
      "text/plain": [
       "           input      output\n",
       "0    -122.740667 -130.572085\n",
       "1    -121.531419 -129.938929\n",
       "2    -134.917019 -130.141832\n",
       "3    -120.605951 -125.760932\n",
       "4    -129.894781 -112.785214\n",
       "...          ...         ...\n",
       "1692   25.410184  -76.380902\n",
       "1693   29.537304  -82.796934\n",
       "1694   31.633331  -87.000000\n",
       "1695   29.091458 -104.943052\n",
       "1696   17.145296 -101.726894\n",
       "\n",
       "[1697 rows x 2 columns]"
      ]
     },
     "execution_count": 2,
     "metadata": {},
     "output_type": "execute_result"
    }
   ],
   "source": [
    "df=pd.read_csv('dataframe_.csv')\n",
    "df"
   ]
  },
  {
   "cell_type": "code",
   "execution_count": 3,
   "id": "5ffa32d9",
   "metadata": {},
   "outputs": [
    {
     "name": "stdout",
     "output_type": "stream",
     "text": [
      "<class 'pandas.core.frame.DataFrame'>\n",
      "RangeIndex: 1697 entries, 0 to 1696\n",
      "Data columns (total 2 columns):\n",
      " #   Column  Non-Null Count  Dtype  \n",
      "---  ------  --------------  -----  \n",
      " 0   input   1696 non-null   float64\n",
      " 1   output  1696 non-null   float64\n",
      "dtypes: float64(2)\n",
      "memory usage: 26.6 KB\n"
     ]
    }
   ],
   "source": [
    "df.info()"
   ]
  },
  {
   "cell_type": "code",
   "execution_count": 4,
   "id": "ea6db350",
   "metadata": {},
   "outputs": [
    {
     "data": {
      "text/html": [
       "<div>\n",
       "<style scoped>\n",
       "    .dataframe tbody tr th:only-of-type {\n",
       "        vertical-align: middle;\n",
       "    }\n",
       "\n",
       "    .dataframe tbody tr th {\n",
       "        vertical-align: top;\n",
       "    }\n",
       "\n",
       "    .dataframe thead th {\n",
       "        text-align: right;\n",
       "    }\n",
       "</style>\n",
       "<table border=\"1\" class=\"dataframe\">\n",
       "  <thead>\n",
       "    <tr style=\"text-align: right;\">\n",
       "      <th></th>\n",
       "      <th>input</th>\n",
       "      <th>output</th>\n",
       "    </tr>\n",
       "  </thead>\n",
       "  <tbody>\n",
       "    <tr>\n",
       "      <th>count</th>\n",
       "      <td>1696.000000</td>\n",
       "      <td>1696.000000</td>\n",
       "    </tr>\n",
       "    <tr>\n",
       "      <th>mean</th>\n",
       "      <td>1.159933</td>\n",
       "      <td>-34.088017</td>\n",
       "    </tr>\n",
       "    <tr>\n",
       "      <th>std</th>\n",
       "      <td>79.005970</td>\n",
       "      <td>65.771112</td>\n",
       "    </tr>\n",
       "    <tr>\n",
       "      <th>min</th>\n",
       "      <td>-134.962839</td>\n",
       "      <td>-132.422167</td>\n",
       "    </tr>\n",
       "    <tr>\n",
       "      <th>25%</th>\n",
       "      <td>-63.386506</td>\n",
       "      <td>-80.026767</td>\n",
       "    </tr>\n",
       "    <tr>\n",
       "      <th>50%</th>\n",
       "      <td>10.195194</td>\n",
       "      <td>-50.470981</td>\n",
       "    </tr>\n",
       "    <tr>\n",
       "      <th>75%</th>\n",
       "      <td>70.264109</td>\n",
       "      <td>-11.000000</td>\n",
       "    </tr>\n",
       "    <tr>\n",
       "      <th>max</th>\n",
       "      <td>134.605775</td>\n",
       "      <td>134.425495</td>\n",
       "    </tr>\n",
       "  </tbody>\n",
       "</table>\n",
       "</div>"
      ],
      "text/plain": [
       "             input       output\n",
       "count  1696.000000  1696.000000\n",
       "mean      1.159933   -34.088017\n",
       "std      79.005970    65.771112\n",
       "min    -134.962839  -132.422167\n",
       "25%     -63.386506   -80.026767\n",
       "50%      10.195194   -50.470981\n",
       "75%      70.264109   -11.000000\n",
       "max     134.605775   134.425495"
      ]
     },
     "execution_count": 4,
     "metadata": {},
     "output_type": "execute_result"
    }
   ],
   "source": [
    "df.describe()"
   ]
  },
  {
   "cell_type": "code",
   "execution_count": 69,
   "id": "529ad06b",
   "metadata": {},
   "outputs": [
    {
     "data": {
      "text/plain": [
       "<AxesSubplot:xlabel='input'>"
      ]
     },
     "execution_count": 69,
     "metadata": {},
     "output_type": "execute_result"
    },
    {
     "data": {
      "image/png": "[encoded data removed]",
      "text/plain": [
       "<Figure size 432x288 with 1 Axes>"
      ]
     },
     "metadata": {
      "needs_background": "light"
     },
     "output_type": "display_data"
    }
   ],
   "source": [
    "sns.boxplot(df['input'])"
   ]
  },
  {
   "cell_type": "code",
   "execution_count": 70,
   "id": "5349688e",
   "metadata": {},
   "outputs": [
    {
     "data": {
      "text/plain": [
       "<AxesSubplot:xlabel='output'>"
      ]
     },
     "execution_count": 70,
     "metadata": {},
     "output_type": "execute_result"
    },
    {
     "data": {
      "image/png": "[encoded data removed]",
      "text/plain": [
       "<Figure size 432x288 with 1 Axes>"
      ]
     },
     "metadata": {
      "needs_background": "light"
     },
     "output_type": "display_data"
    }
   ],
   "source": [
    "sns.boxplot(df['output'])"
   ]
  },
  {
   "cell_type": "code",
   "execution_count": 26,
   "id": "765f5a88",
   "metadata": {},
   "outputs": [
    {
     "data": {
      "text/plain": [
       "2080"
      ]
     },
     "execution_count": 26,
     "metadata": {},
     "output_type": "execute_result"
    }
   ],
   "source": [
    "(df<0).sum().sum()# total number of negative values"
   ]
  },
  {
   "cell_type": "code",
   "execution_count": 30,
   "id": "da26ec51",
   "metadata": {},
   "outputs": [],
   "source": [
    "df_n=df[(df>0).all(1)]"
   ]
  },
  {
   "cell_type": "code",
   "execution_count": 31,
   "id": "e2556d36",
   "metadata": {},
   "outputs": [
    {
     "data": {
      "text/html": [
       "<div>\n",
       "<style scoped>\n",
       "    .dataframe tbody tr th:only-of-type {\n",
       "        vertical-align: middle;\n",
       "    }\n",
       "\n",
       "    .dataframe tbody tr th {\n",
       "        vertical-align: top;\n",
       "    }\n",
       "\n",
       "    .dataframe thead th {\n",
       "        text-align: right;\n",
       "    }\n",
       "</style>\n",
       "<table border=\"1\" class=\"dataframe\">\n",
       "  <thead>\n",
       "    <tr style=\"text-align: right;\">\n",
       "      <th></th>\n",
       "      <th>input</th>\n",
       "      <th>output</th>\n",
       "    </tr>\n",
       "  </thead>\n",
       "  <tbody>\n",
       "    <tr>\n",
       "      <th>300</th>\n",
       "      <td>82.896050</td>\n",
       "      <td>1.467981</td>\n",
       "    </tr>\n",
       "    <tr>\n",
       "      <th>306</th>\n",
       "      <td>84.633331</td>\n",
       "      <td>7.000000</td>\n",
       "    </tr>\n",
       "    <tr>\n",
       "      <th>307</th>\n",
       "      <td>84.775244</td>\n",
       "      <td>8.755985</td>\n",
       "    </tr>\n",
       "    <tr>\n",
       "      <th>309</th>\n",
       "      <td>72.041717</td>\n",
       "      <td>11.947285</td>\n",
       "    </tr>\n",
       "    <tr>\n",
       "      <th>310</th>\n",
       "      <td>89.633331</td>\n",
       "      <td>18.000000</td>\n",
       "    </tr>\n",
       "    <tr>\n",
       "      <th>...</th>\n",
       "      <td>...</td>\n",
       "      <td>...</td>\n",
       "    </tr>\n",
       "    <tr>\n",
       "      <th>1539</th>\n",
       "      <td>93.633331</td>\n",
       "      <td>39.000000</td>\n",
       "    </tr>\n",
       "    <tr>\n",
       "      <th>1540</th>\n",
       "      <td>75.802308</td>\n",
       "      <td>48.028553</td>\n",
       "    </tr>\n",
       "    <tr>\n",
       "      <th>1541</th>\n",
       "      <td>87.325028</td>\n",
       "      <td>32.580658</td>\n",
       "    </tr>\n",
       "    <tr>\n",
       "      <th>1542</th>\n",
       "      <td>105.482733</td>\n",
       "      <td>52.557204</td>\n",
       "    </tr>\n",
       "    <tr>\n",
       "      <th>1543</th>\n",
       "      <td>97.633331</td>\n",
       "      <td>48.000000</td>\n",
       "    </tr>\n",
       "  </tbody>\n",
       "</table>\n",
       "<p>340 rows × 2 columns</p>\n",
       "</div>"
      ],
      "text/plain": [
       "           input     output\n",
       "300    82.896050   1.467981\n",
       "306    84.633331   7.000000\n",
       "307    84.775244   8.755985\n",
       "309    72.041717  11.947285\n",
       "310    89.633331  18.000000\n",
       "...          ...        ...\n",
       "1539   93.633331  39.000000\n",
       "1540   75.802308  48.028553\n",
       "1541   87.325028  32.580658\n",
       "1542  105.482733  52.557204\n",
       "1543   97.633331  48.000000\n",
       "\n",
       "[340 rows x 2 columns]"
      ]
     },
     "execution_count": 31,
     "metadata": {},
     "output_type": "execute_result"
    }
   ],
   "source": [
    "df_n"
   ]
  },
  {
   "cell_type": "code",
   "execution_count": 32,
   "id": "7bae8582",
   "metadata": {},
   "outputs": [
    {
     "data": {
      "text/html": [
       "<div>\n",
       "<style scoped>\n",
       "    .dataframe tbody tr th:only-of-type {\n",
       "        vertical-align: middle;\n",
       "    }\n",
       "\n",
       "    .dataframe tbody tr th {\n",
       "        vertical-align: top;\n",
       "    }\n",
       "\n",
       "    .dataframe thead th {\n",
       "        text-align: right;\n",
       "    }\n",
       "</style>\n",
       "<table border=\"1\" class=\"dataframe\">\n",
       "  <thead>\n",
       "    <tr style=\"text-align: right;\">\n",
       "      <th></th>\n",
       "      <th>input</th>\n",
       "      <th>output</th>\n",
       "    </tr>\n",
       "  </thead>\n",
       "  <tbody>\n",
       "    <tr>\n",
       "      <th>count</th>\n",
       "      <td>340.000000</td>\n",
       "      <td>340.000000</td>\n",
       "    </tr>\n",
       "    <tr>\n",
       "      <th>mean</th>\n",
       "      <td>102.645862</td>\n",
       "      <td>66.137065</td>\n",
       "    </tr>\n",
       "    <tr>\n",
       "      <th>std</th>\n",
       "      <td>16.540564</td>\n",
       "      <td>38.879872</td>\n",
       "    </tr>\n",
       "    <tr>\n",
       "      <th>min</th>\n",
       "      <td>58.916087</td>\n",
       "      <td>0.842715</td>\n",
       "    </tr>\n",
       "    <tr>\n",
       "      <th>25%</th>\n",
       "      <td>90.633331</td>\n",
       "      <td>31.986850</td>\n",
       "    </tr>\n",
       "    <tr>\n",
       "      <th>50%</th>\n",
       "      <td>104.361054</td>\n",
       "      <td>63.128500</td>\n",
       "    </tr>\n",
       "    <tr>\n",
       "      <th>75%</th>\n",
       "      <td>114.574354</td>\n",
       "      <td>100.609812</td>\n",
       "    </tr>\n",
       "    <tr>\n",
       "      <th>max</th>\n",
       "      <td>134.605775</td>\n",
       "      <td>134.425495</td>\n",
       "    </tr>\n",
       "  </tbody>\n",
       "</table>\n",
       "</div>"
      ],
      "text/plain": [
       "            input      output\n",
       "count  340.000000  340.000000\n",
       "mean   102.645862   66.137065\n",
       "std     16.540564   38.879872\n",
       "min     58.916087    0.842715\n",
       "25%     90.633331   31.986850\n",
       "50%    104.361054   63.128500\n",
       "75%    114.574354  100.609812\n",
       "max    134.605775  134.425495"
      ]
     },
     "execution_count": 32,
     "metadata": {},
     "output_type": "execute_result"
    }
   ],
   "source": [
    "df_n.describe()# maximumm, minimum and mean are calculater after removing outlier and parameter tunning "
   ]
  },
  {
   "cell_type": "code",
   "execution_count": 75,
   "id": "d457f650",
   "metadata": {},
   "outputs": [],
   "source": [
    "df_new=df_n"
   ]
  },
  {
   "cell_type": "code",
   "execution_count": 76,
   "id": "5292bb79",
   "metadata": {},
   "outputs": [
    {
     "data": {
      "text/html": [
       "<div>\n",
       "<style scoped>\n",
       "    .dataframe tbody tr th:only-of-type {\n",
       "        vertical-align: middle;\n",
       "    }\n",
       "\n",
       "    .dataframe tbody tr th {\n",
       "        vertical-align: top;\n",
       "    }\n",
       "\n",
       "    .dataframe thead th {\n",
       "        text-align: right;\n",
       "    }\n",
       "</style>\n",
       "<table border=\"1\" class=\"dataframe\">\n",
       "  <thead>\n",
       "    <tr style=\"text-align: right;\">\n",
       "      <th></th>\n",
       "      <th>input</th>\n",
       "      <th>output</th>\n",
       "    </tr>\n",
       "  </thead>\n",
       "  <tbody>\n",
       "    <tr>\n",
       "      <th>count</th>\n",
       "      <td>340.000000</td>\n",
       "      <td>340.000000</td>\n",
       "    </tr>\n",
       "    <tr>\n",
       "      <th>mean</th>\n",
       "      <td>102.645862</td>\n",
       "      <td>66.137065</td>\n",
       "    </tr>\n",
       "    <tr>\n",
       "      <th>std</th>\n",
       "      <td>16.540564</td>\n",
       "      <td>38.879872</td>\n",
       "    </tr>\n",
       "    <tr>\n",
       "      <th>min</th>\n",
       "      <td>58.916087</td>\n",
       "      <td>0.842715</td>\n",
       "    </tr>\n",
       "    <tr>\n",
       "      <th>25%</th>\n",
       "      <td>90.633331</td>\n",
       "      <td>31.986850</td>\n",
       "    </tr>\n",
       "    <tr>\n",
       "      <th>50%</th>\n",
       "      <td>104.361054</td>\n",
       "      <td>63.128500</td>\n",
       "    </tr>\n",
       "    <tr>\n",
       "      <th>75%</th>\n",
       "      <td>114.574354</td>\n",
       "      <td>100.609812</td>\n",
       "    </tr>\n",
       "    <tr>\n",
       "      <th>max</th>\n",
       "      <td>134.605775</td>\n",
       "      <td>134.425495</td>\n",
       "    </tr>\n",
       "  </tbody>\n",
       "</table>\n",
       "</div>"
      ],
      "text/plain": [
       "            input      output\n",
       "count  340.000000  340.000000\n",
       "mean   102.645862   66.137065\n",
       "std     16.540564   38.879872\n",
       "min     58.916087    0.842715\n",
       "25%     90.633331   31.986850\n",
       "50%    104.361054   63.128500\n",
       "75%    114.574354  100.609812\n",
       "max    134.605775  134.425495"
      ]
     },
     "execution_count": 76,
     "metadata": {},
     "output_type": "execute_result"
    }
   ],
   "source": [
    "df_new.describe()"
   ]
  },
  {
   "cell_type": "code",
   "execution_count": 77,
   "id": "290bcc6a",
   "metadata": {},
   "outputs": [],
   "source": [
    "import matplotlib.pyplot as plt\n",
    "import seaborn as sns"
   ]
  },
  {
   "cell_type": "code",
   "execution_count": 80,
   "id": "afe4f71d",
   "metadata": {},
   "outputs": [
    {
     "data": {
      "image/png": "[encoded data removed]",
      "text/plain": [
       "<Figure size 1152x360 with 2 Axes>"
      ]
     },
     "metadata": {
      "needs_background": "light"
     },
     "output_type": "display_data"
    }
   ],
   "source": [
    "import warnings\n",
    "warnings.filterwarnings('ignore')\n",
    "plt.figure(figsize=(16,5))\n",
    "plt.subplot(1,2,1)\n",
    "sns.distplot(df_new['input'])\n",
    "plt.subplot(1,2,2)\n",
    "sns.distplot(df_new['output'])\n",
    "plt.show()"
   ]
  },
  {
   "cell_type": "code",
   "execution_count": 84,
   "id": "79038714",
   "metadata": {},
   "outputs": [
    {
     "data": {
      "text/plain": [
       "-0.22577301241564285"
      ]
     },
     "execution_count": 84,
     "metadata": {},
     "output_type": "execute_result"
    }
   ],
   "source": [
    "df_new['input'].skew()\n"
   ]
  },
  {
   "cell_type": "code",
   "execution_count": 85,
   "id": "e4c1af1b",
   "metadata": {},
   "outputs": [
    {
     "data": {
      "text/plain": [
       "0.004535677142700942"
      ]
     },
     "execution_count": 85,
     "metadata": {},
     "output_type": "execute_result"
    }
   ],
   "source": [
    "df_new['output'].skew()"
   ]
  },
  {
   "cell_type": "code",
   "execution_count": 86,
   "id": "6f05190a",
   "metadata": {},
   "outputs": [
    {
     "data": {
      "text/plain": [
       "<AxesSubplot:xlabel='input'>"
      ]
     },
     "execution_count": 86,
     "metadata": {},
     "output_type": "execute_result"
    },
    {
     "data": {
      "image/png": "[encoded data removed]",
      "text/plain": [
       "<Figure size 432x288 with 1 Axes>"
      ]
     },
     "metadata": {
      "needs_background": "light"
     },
     "output_type": "display_data"
    }
   ],
   "source": [
    "sns.boxplot(df_new['input'])"
   ]
  },
  {
   "cell_type": "code",
   "execution_count": 87,
   "id": "86f99106",
   "metadata": {},
   "outputs": [
    {
     "data": {
      "text/plain": [
       "<AxesSubplot:xlabel='output'>"
      ]
     },
     "execution_count": 87,
     "metadata": {},
     "output_type": "execute_result"
    },
    {
     "data": {
      "image/png": "[encoded data removed]",
      "text/plain": [
       "<Figure size 432x288 with 1 Axes>"
      ]
     },
     "metadata": {
      "needs_background": "light"
     },
     "output_type": "display_data"
    }
   ],
   "source": [
    "sns.boxplot(df_new['output'])"
   ]
  },
  {
   "cell_type": "code",
   "execution_count": 113,
   "id": "226fc473",
   "metadata": {},
   "outputs": [
    {
     "data": {
      "text/plain": [
       "<matplotlib.collections.PathCollection at 0x2b57709bf40>"
      ]
     },
     "execution_count": 113,
     "metadata": {},
     "output_type": "execute_result"
    },
    {
     "data": {
      "image/png": "[encoded data removed]",
      "text/plain": [
       "<Figure size 432x288 with 1 Axes>"
      ]
     },
     "metadata": {
      "needs_background": "light"
     },
     "output_type": "display_data"
    }
   ],
   "source": [
    "X=df_new['input']\n",
    "y=df_new['output']\n",
    "plt.scatter(x,y,color='b')"
   ]
  },
  {
   "cell_type": "code",
   "execution_count": 122,
   "id": "a180f760",
   "metadata": {},
   "outputs": [
    {
     "name": "stdout",
     "output_type": "stream",
     "text": [
      "[[ 82.89604966]\n",
      " [ 84.6333313 ]\n",
      " [ 84.77524438]\n",
      " [ 72.04171715]\n",
      " [ 89.6333313 ]\n",
      " [ 91.84910437]\n",
      " [ 76.65852087]\n",
      " [ 86.2740089 ]\n",
      " [ 92.6333313 ]\n",
      " [ 93.54570014]\n",
      " [ 90.57672233]\n",
      " [101.2707346 ]\n",
      " [ 96.6333313 ]\n",
      " [100.4674643 ]\n",
      " [ 96.08331355]\n",
      " [ 85.24119004]\n",
      " [100.6333313 ]\n",
      " [ 83.67882714]\n",
      " [105.8866071 ]\n",
      " [119.0248458 ]\n",
      " [102.6333313 ]\n",
      " [112.6598778 ]\n",
      " [115.4332941 ]\n",
      " [103.0789271 ]\n",
      " [106.6333313 ]\n",
      " [122.0154499 ]\n",
      " [103.5799233 ]\n",
      " [ 90.82227294]\n",
      " [112.6333313 ]\n",
      " [ 93.19808183]\n",
      " [110.1351971 ]\n",
      " [126.25779   ]\n",
      " [112.6333313 ]\n",
      " [114.2310589 ]\n",
      " [112.0880697 ]\n",
      " [ 94.668251  ]\n",
      " [114.6333313 ]\n",
      " [103.6168168 ]\n",
      " [108.1348708 ]\n",
      " [131.90958   ]\n",
      " [115.6333313 ]\n",
      " [122.3210184 ]\n",
      " [105.0756003 ]\n",
      " [103.8184685 ]\n",
      " [117.6333313 ]\n",
      " [126.5716611 ]\n",
      " [111.921765  ]\n",
      " [112.5890501 ]\n",
      " [122.6333313 ]\n",
      " [120.5892044 ]\n",
      " [122.6333313 ]\n",
      " [134.4631809 ]\n",
      " [125.91664   ]\n",
      " [133.1015146 ]\n",
      " [124.6333313 ]\n",
      " [121.0600756 ]\n",
      " [133.0240344 ]\n",
      " [106.7891091 ]\n",
      " [ 58.9160873 ]\n",
      " [ 71.03641899]\n",
      " [ 74.34604263]\n",
      " [ 66.88622905]\n",
      " [ 80.6333313 ]\n",
      " [ 94.82477999]\n",
      " [ 82.6333313 ]\n",
      " [ 73.46537222]\n",
      " [ 84.6333313 ]\n",
      " [ 77.44915486]\n",
      " [ 80.21419524]\n",
      " [ 93.94866414]\n",
      " [ 88.6333313 ]\n",
      " [105.7242686 ]\n",
      " [ 76.59414876]\n",
      " [ 99.53084675]\n",
      " [ 90.6333313 ]\n",
      " [ 83.15571981]\n",
      " [100.8818575 ]\n",
      " [ 98.20922281]\n",
      " [ 92.6333313 ]\n",
      " [107.9318825 ]\n",
      " [ 74.41298046]\n",
      " [112.6249097 ]\n",
      " [ 93.6333313 ]\n",
      " [ 75.80230803]\n",
      " [ 87.32502757]\n",
      " [105.4827326 ]\n",
      " [ 97.6333313 ]\n",
      " [ 96.46005449]\n",
      " [ 98.82209025]\n",
      " [ 79.80685918]\n",
      " [100.6333313 ]\n",
      " [101.7338025 ]\n",
      " [115.0005466 ]\n",
      " [ 83.27412351]\n",
      " [102.6333313 ]\n",
      " [120.2485568 ]\n",
      " [105.2703064 ]\n",
      " [117.5966596 ]\n",
      " [104.6333313 ]\n",
      " [ 92.31660855]\n",
      " [ 89.85562364]\n",
      " [ 99.33809238]\n",
      " [106.6333313 ]\n",
      " [104.0887767 ]\n",
      " [ 88.41154465]\n",
      " [123.6277237 ]\n",
      " [108.6333313 ]\n",
      " [110.1766028 ]\n",
      " [116.194467  ]\n",
      " [103.3030867 ]\n",
      " [112.6333313 ]\n",
      " [113.4197101 ]\n",
      " [108.9908315 ]\n",
      " [ 92.87962696]\n",
      " [112.6333313 ]\n",
      " [107.9920345 ]\n",
      " [117.7597662 ]\n",
      " [132.2814886 ]\n",
      " [112.6333313 ]\n",
      " [111.2355088 ]\n",
      " [124.0215706 ]\n",
      " [112.8067776 ]\n",
      " [112.6333313 ]\n",
      " [ 99.41493998]\n",
      " [112.8405948 ]\n",
      " [120.1030121 ]\n",
      " [118.6333313 ]\n",
      " [105.7058912 ]\n",
      " [133.9073717 ]\n",
      " [129.5416718 ]\n",
      " [120.6333313 ]\n",
      " [133.3589345 ]\n",
      " [124.4528335 ]\n",
      " [120.6333313 ]\n",
      " [108.4136656 ]\n",
      " [105.5507259 ]\n",
      " [120.6333313 ]\n",
      " [117.7568023 ]\n",
      " [118.6333313 ]\n",
      " [125.2329353 ]\n",
      " [124.6410144 ]\n",
      " [116.6333313 ]\n",
      " [104.7722544 ]\n",
      " [107.1731716 ]\n",
      " [109.0853089 ]\n",
      " [112.6333313 ]\n",
      " [112.138167  ]\n",
      " [119.2002417 ]\n",
      " [124.727894  ]\n",
      " [110.6333313 ]\n",
      " [101.4525473 ]\n",
      " [112.6764372 ]\n",
      " [ 98.30653124]\n",
      " [106.6333313 ]\n",
      " [105.3270206 ]\n",
      " [102.4557181 ]\n",
      " [123.2706712 ]\n",
      " [103.6333313 ]\n",
      " [ 90.51009332]\n",
      " [114.5770969 ]\n",
      " [109.5425747 ]\n",
      " [ 99.6333313 ]\n",
      " [ 80.75152639]\n",
      " [113.9217406 ]\n",
      " [117.2403723 ]\n",
      " [ 94.6333313 ]\n",
      " [108.0819075 ]\n",
      " [ 75.45194237]\n",
      " [ 98.99663552]\n",
      " [ 92.6333313 ]\n",
      " [ 92.31453119]\n",
      " [111.9169776 ]\n",
      " [ 85.10753769]\n",
      " [ 90.6333313 ]\n",
      " [102.8130929 ]\n",
      " [ 71.90404034]\n",
      " [105.3430505 ]\n",
      " [ 86.6333313 ]\n",
      " [ 96.90173948]\n",
      " [ 76.25316671]\n",
      " [ 83.85723704]\n",
      " [ 82.6333313 ]\n",
      " [ 84.09626702]\n",
      " [ 81.96081304]\n",
      " [ 94.28697677]\n",
      " [ 80.6333313 ]\n",
      " [ 85.55976328]\n",
      " [ 65.99394815]\n",
      " [ 84.23792784]\n",
      " [ 80.6333313 ]\n",
      " [ 93.86432888]\n",
      " [ 80.6333313 ]\n",
      " [ 66.97194407]\n",
      " [ 72.0975191 ]\n",
      " [ 83.6333313 ]\n",
      " [ 71.40495673]\n",
      " [ 77.46032343]\n",
      " [ 84.97150263]\n",
      " [ 88.6333313 ]\n",
      " [ 97.08220181]\n",
      " [ 75.24923123]\n",
      " [ 87.36784248]\n",
      " [ 94.6333313 ]\n",
      " [112.5669758 ]\n",
      " [ 82.84174354]\n",
      " [112.1657774 ]\n",
      " [ 97.6333313 ]\n",
      " [113.9585976 ]\n",
      " [ 92.12124855]\n",
      " [108.045166  ]\n",
      " [101.6333313 ]\n",
      " [ 86.8218944 ]\n",
      " [107.8566839 ]\n",
      " [120.202913  ]\n",
      " [108.6333313 ]\n",
      " [ 92.86139539]\n",
      " [114.5734398 ]\n",
      " [125.4483908 ]\n",
      " [110.6333313 ]\n",
      " [120.898186  ]\n",
      " [108.1781464 ]\n",
      " [128.0107858 ]\n",
      " [111.6333313 ]\n",
      " [128.0365709 ]\n",
      " [128.8316447 ]\n",
      " [ 99.68624243]\n",
      " [112.6333313 ]\n",
      " [117.0675029 ]\n",
      " [130.5090244 ]\n",
      " [106.9245151 ]\n",
      " [113.6333313 ]\n",
      " [117.5945747 ]\n",
      " [114.7106553 ]\n",
      " [ 98.14039645]\n",
      " [113.6333313 ]\n",
      " [ 98.66884203]\n",
      " [132.9749039 ]\n",
      " [ 98.20926496]\n",
      " [113.6333313 ]\n",
      " [110.0081995 ]\n",
      " [107.0815077 ]\n",
      " [116.614886  ]\n",
      " [114.6333313 ]\n",
      " [112.19052   ]\n",
      " [130.215865  ]\n",
      " [115.2538998 ]\n",
      " [116.6333313 ]\n",
      " [107.3228892 ]\n",
      " [122.8318272 ]\n",
      " [134.6057752 ]\n",
      " [116.6333313 ]\n",
      " [115.8623022 ]\n",
      " [117.3661993 ]\n",
      " [ 99.68314101]\n",
      " [ 82.89604966]\n",
      " [ 84.6333313 ]\n",
      " [ 84.77524438]\n",
      " [ 72.04171715]\n",
      " [ 89.6333313 ]\n",
      " [ 91.84910437]\n",
      " [ 76.65852087]\n",
      " [ 86.2740089 ]\n",
      " [ 92.6333313 ]\n",
      " [ 93.54570014]\n",
      " [ 90.57672233]\n",
      " [101.2707346 ]\n",
      " [ 96.6333313 ]\n",
      " [100.4674643 ]\n",
      " [ 96.08331355]\n",
      " [ 85.24119004]\n",
      " [100.6333313 ]\n",
      " [ 83.67882714]\n",
      " [105.8866071 ]\n",
      " [119.0248458 ]\n",
      " [102.6333313 ]\n",
      " [112.6598778 ]\n",
      " [103.0789271 ]\n",
      " [106.6333313 ]\n",
      " [122.0154499 ]\n",
      " [103.5799233 ]\n",
      " [ 90.82227294]\n",
      " [112.6333313 ]\n",
      " [ 93.19808183]\n",
      " [110.1351971 ]\n",
      " [126.25779   ]\n",
      " [112.6333313 ]\n",
      " [114.2310589 ]\n",
      " [112.0880697 ]\n",
      " [ 94.668251  ]\n",
      " [114.6333313 ]\n",
      " [103.6168168 ]\n",
      " [108.1348708 ]\n",
      " [131.90958   ]\n",
      " [115.6333313 ]\n",
      " [122.3210184 ]\n",
      " [105.0756003 ]\n",
      " [103.8184685 ]\n",
      " [117.6333313 ]\n",
      " [126.5716611 ]\n",
      " [111.921765  ]\n",
      " [112.5890501 ]\n",
      " [122.6333313 ]\n",
      " [120.5892044 ]\n",
      " [122.6333313 ]\n",
      " [134.4631809 ]\n",
      " [125.91664   ]\n",
      " [133.1015146 ]\n",
      " [124.6333313 ]\n",
      " [121.0600756 ]\n",
      " [133.0240344 ]\n",
      " [106.7891091 ]\n",
      " [ 58.9160873 ]\n",
      " [ 71.03641899]\n",
      " [ 74.34604263]\n",
      " [ 66.88622905]\n",
      " [ 80.6333313 ]\n",
      " [ 94.82477999]\n",
      " [ 82.6333313 ]\n",
      " [ 73.46537222]\n",
      " [ 84.6333313 ]\n",
      " [ 77.44915486]\n",
      " [ 80.21419524]\n",
      " [ 93.94866414]\n",
      " [ 88.6333313 ]\n",
      " [105.7242686 ]\n",
      " [ 76.59414876]\n",
      " [ 99.53084675]\n",
      " [ 90.6333313 ]\n",
      " [ 83.15571981]\n",
      " [100.8818575 ]\n",
      " [ 98.20922281]\n",
      " [ 92.6333313 ]\n",
      " [107.9318825 ]\n",
      " [ 74.41298046]\n",
      " [112.6249097 ]\n",
      " [ 93.6333313 ]\n",
      " [ 75.80230803]\n",
      " [ 87.32502757]\n",
      " [105.4827326 ]\n",
      " [ 97.6333313 ]]\n",
      "[  1.46798085   7.           8.75598497  11.947285    18.\n",
      "  35.54328359  22.91589129  34.4399733   25.          20.76041535\n",
      "  18.03833636  27.90016191  41.          23.41974153  55.67716834\n",
      "  45.23878665  51.          49.12797699  65.84630362  58.01520137\n",
      "  55.          43.61714619  51.38717146  41.51795546  61.\n",
      "  46.38835856  60.10208324  56.90605722  83.          91.33827573\n",
      "  80.3365181   82.36724538  89.         100.4931074   84.46608551\n",
      " 103.8184132   94.         109.9652616   87.65325077  94.63628875\n",
      " 101.         102.4015316   90.8847302   86.00624836 107.\n",
      " 116.3274991  107.2929794   92.92781851 119.         128.4164159\n",
      " 121.         125.120374   102.8245883  133.7931158  129.\n",
      " 126.7503849  132.05527    126.5373083    5.15080161   7.10777175\n",
      "  10.03590062  12.87885513   5.           1.21625178  13.\n",
      "   1.49373122  21.          29.15065648   5.96416377  21.9481929\n",
      "  29.          41.63469698  24.55455007  40.29726254  33.\n",
      "  22.40757901  41.36624334  16.8266058   37.          22.86270988\n",
      "  38.24941962  23.82105647  39.          48.02855258  32.58065789\n",
      "  52.55720382  48.          61.38724061  59.36325164  60.11864347\n",
      "  61.          80.26412693  65.49619763  59.42752283  67.\n",
      "  74.11018474  74.73065812  73.94225713  71.          63.25700098\n",
      "  67.62955189  77.05656398  79.          69.38148907  83.25342662\n",
      "  60.83232939  89.         100.9599261   73.21211873  87.08107647\n",
      " 100.         100.0000474   83.93005242  87.92508699 103.\n",
      " 102.0504222   94.79950464  91.54096348 103.          98.58331448\n",
      "  99.7648188  119.5931407  105.          85.2392864  104.7542306\n",
      "  95.91099282 117.         131.8415952  101.6377652  128.5894125\n",
      " 125.         131.9163621  115.4380488  127.         134.4254952\n",
      " 115.3676033  126.         127.5743908  120.         103.5618586\n",
      " 106.8797057  115.         108.4355336  126.8997443  125.6857499\n",
      " 102.         107.5450815   98.04474815  90.47212182  92.\n",
      " 102.7495195   86.75781924 104.6792673   80.          85.5246007\n",
      "  72.24119383  60.67355428  71.          69.77947313  67.10044414\n",
      "  74.59532558  63.          58.86109019  49.87665865  79.20662645\n",
      "  51.          39.42930712  68.43181474  38.9964238   45.\n",
      "  51.56531903  26.96618417  62.41608167  42.          59.81681172\n",
      "  58.30009797  38.30762372  30.          41.03634764  18.28126979\n",
      "  24.7859337   21.           6.1480405    4.07905264   1.23768338\n",
      "  14.          16.39178112  11.16664314   0.84271548   6.\n",
      "   7.76268927   2.          17.06288239   5.30992911  12.\n",
      "  10.630039    24.35604268  27.49095875  23.          15.8573514\n",
      "  37.27426828  28.82534034  37.          17.4217392   29.67987567\n",
      "  30.2054282   44.          54.17644488  50.31788868  59.97522255\n",
      "  53.          41.61417179  62.34531026  57.64738173  71.\n",
      "  88.87141813  75.34482182  60.22634481  83.          73.8479844\n",
      " 101.0488702   80.51237343  89.          89.42088463  84.79352674\n",
      "  96.37932413  95.          84.49082246 113.8706782   92.53707879\n",
      " 104.          90.88754792 118.3510094   91.3383484  107.\n",
      "  96.856977   120.2647247  111.4769582  109.         108.4806004\n",
      " 123.148918   105.6093477  112.         101.023864   111.9385401\n",
      "  97.55392008 118.         126.0529894  129.4342905  123.6196799\n",
      " 118.         118.5645896   99.54481995 129.2721534    1.46798085\n",
      "   7.           8.75598497  11.947285    18.          35.54328359\n",
      "  22.91589129  34.4399733   25.          20.76041535  18.03833636\n",
      "  27.90016191  41.          23.41974153  55.67716834  45.23878665\n",
      "  51.          49.12797699  65.84630362  58.01520137  55.\n",
      "  43.61714619  41.51795546  61.          46.38835856  60.10208324\n",
      "  56.90605722  83.          91.33827573  80.3365181   82.36724538\n",
      "  89.         100.4931074   84.46608551 103.8184132   94.\n",
      " 109.9652616   87.65325077  94.63628875 101.         102.4015316\n",
      "  90.8847302   86.00624836 107.         116.3274991  107.2929794\n",
      "  92.92781851 119.         128.4164159  121.         125.120374\n",
      " 102.8245883  133.7931158  129.         126.7503849  132.05527\n",
      " 126.5373083    5.15080161   7.10777175  10.03590062  12.87885513\n",
      "   5.           1.21625178  13.           1.49373122  21.\n",
      "  29.15065648   5.96416377  21.9481929   29.          41.63469698\n",
      "  24.55455007  40.29726254  33.          22.40757901  41.36624334\n",
      "  16.8266058   37.          22.86270988  38.24941962  23.82105647\n",
      "  39.          48.02855258  32.58065789  52.55720382  48.        ]\n"
     ]
    }
   ],
   "source": [
    "X = df_new.iloc[:, :-1].values  \n",
    "y = df_new.iloc[:, 1].values  \n",
    "print(X)\n",
    "print(y)"
   ]
  },
  {
   "cell_type": "code",
   "execution_count": 123,
   "id": "3c6174cf",
   "metadata": {},
   "outputs": [
    {
     "name": "stdout",
     "output_type": "stream",
     "text": [
      "Train-Test split done \n"
     ]
    }
   ],
   "source": [
    "# Split this data into training and test sets by using Scikit-Learn's built-in train_test_split() method\n",
    "from sklearn.model_selection import train_test_split  \n",
    "X_train, X_test, y_train, y_test = train_test_split(X, y,test_size=0.2, random_state=0) \n",
    "#test size= 0.2 means it is of 80% train data and 20% test data \n",
    "print(\"Train-Test split done \")"
   ]
  },
  {
   "cell_type": "code",
   "execution_count": 124,
   "id": "23510d6b",
   "metadata": {},
   "outputs": [
    {
     "name": "stdout",
     "output_type": "stream",
     "text": [
      "Training complete.\n"
     ]
    }
   ],
   "source": [
    "from sklearn.linear_model import LinearRegression  \n",
    "regressor = LinearRegression() \n",
    "\n",
    "regressor.fit(X_train, y_train) \n",
    "\n",
    "print(\"Training complete.\")"
   ]
  },
  {
   "cell_type": "code",
   "execution_count": 125,
   "id": "8dd06e10",
   "metadata": {},
   "outputs": [
    {
     "data": {
      "image/png": "[encoded data removed]",
      "text/plain": [
       "<Figure size 432x288 with 1 Axes>"
      ]
     },
     "metadata": {
      "needs_background": "light"
     },
     "output_type": "display_data"
    }
   ],
   "source": [
    "# Plotting the regression line\n",
    "line = regressor.coef_*X+regressor.intercept_\n",
    "\n",
    "# Plotting for the test data\n",
    "plt.scatter(X, y)\n",
    "#plotting scatter plot between x , y i.e input and output data set\n",
    "plt.plot(X, line,'y')\n",
    "#plotting line of linear regression\n",
    "plt.show()"
   ]
  },
  {
   "cell_type": "code",
   "execution_count": 126,
   "id": "2d6a52cb",
   "metadata": {},
   "outputs": [
    {
     "name": "stdout",
     "output_type": "stream",
     "text": [
      "[[ 99.68624243]\n",
      " [ 83.67882714]\n",
      " [ 82.84174354]\n",
      " [102.6333313 ]\n",
      " [111.921765  ]\n",
      " [100.8818575 ]\n",
      " [ 85.24119004]\n",
      " [122.0154499 ]\n",
      " [ 82.6333313 ]\n",
      " [ 93.19808183]\n",
      " [ 75.45194237]\n",
      " [ 79.80685918]\n",
      " [ 80.21419524]\n",
      " [ 71.03641899]\n",
      " [ 73.46537222]\n",
      " [132.9749039 ]\n",
      " [103.5799233 ]\n",
      " [ 71.90404034]\n",
      " [ 94.82477999]\n",
      " [103.6168168 ]\n",
      " [118.6333313 ]\n",
      " [ 97.08220181]\n",
      " [120.898186  ]\n",
      " [121.0600756 ]\n",
      " [114.5734398 ]\n",
      " [112.6333313 ]\n",
      " [124.6333313 ]\n",
      " [109.5425747 ]\n",
      " [ 99.6333313 ]\n",
      " [106.7891091 ]\n",
      " [ 84.6333313 ]\n",
      " [112.0880697 ]\n",
      " [108.6333313 ]\n",
      " [ 90.6333313 ]\n",
      " [124.4528335 ]\n",
      " [116.6333313 ]\n",
      " [106.6333313 ]\n",
      " [ 99.33809238]\n",
      " [ 86.2740089 ]\n",
      " [ 80.21419524]\n",
      " [112.138167  ]\n",
      " [125.91664   ]\n",
      " [ 74.34604263]\n",
      " [133.0240344 ]\n",
      " [106.6333313 ]\n",
      " [ 77.46032343]\n",
      " [120.6333313 ]\n",
      " [ 92.6333313 ]\n",
      " [111.9169776 ]\n",
      " [112.6598778 ]\n",
      " [ 88.6333313 ]\n",
      " [ 90.6333313 ]\n",
      " [109.0853089 ]\n",
      " [120.5892044 ]\n",
      " [105.0756003 ]\n",
      " [117.7568023 ]\n",
      " [122.3210184 ]\n",
      " [ 82.6333313 ]\n",
      " [ 86.2740089 ]\n",
      " [ 76.65852087]\n",
      " [114.2310589 ]\n",
      " [115.0005466 ]\n",
      " [115.4332941 ]\n",
      " [105.5507259 ]\n",
      " [ 73.46537222]\n",
      " [108.4136656 ]\n",
      " [ 84.6333313 ]\n",
      " [ 89.85562364]]\n"
     ]
    }
   ],
   "source": [
    "# MAKING PREDICTION\n",
    "print(X_test) # Testing data \n",
    "y_pred = regressor.predict(X_test) # Predicting the scores"
   ]
  },
  {
   "cell_type": "code",
   "execution_count": 127,
   "id": "23bba752",
   "metadata": {},
   "outputs": [
    {
     "data": {
      "text/html": [
       "<div>\n",
       "<style scoped>\n",
       "    .dataframe tbody tr th:only-of-type {\n",
       "        vertical-align: middle;\n",
       "    }\n",
       "\n",
       "    .dataframe tbody tr th {\n",
       "        vertical-align: top;\n",
       "    }\n",
       "\n",
       "    .dataframe thead th {\n",
       "        text-align: right;\n",
       "    }\n",
       "</style>\n",
       "<table border=\"1\" class=\"dataframe\">\n",
       "  <thead>\n",
       "    <tr style=\"text-align: right;\">\n",
       "      <th></th>\n",
       "      <th>Actual</th>\n",
       "      <th>Predicted</th>\n",
       "    </tr>\n",
       "  </thead>\n",
       "  <tbody>\n",
       "    <tr>\n",
       "      <th>0</th>\n",
       "      <td>96.379324</td>\n",
       "      <td>59.887879</td>\n",
       "    </tr>\n",
       "    <tr>\n",
       "      <th>1</th>\n",
       "      <td>49.127977</td>\n",
       "      <td>31.532635</td>\n",
       "    </tr>\n",
       "    <tr>\n",
       "      <th>2</th>\n",
       "      <td>29.679876</td>\n",
       "      <td>30.049841</td>\n",
       "    </tr>\n",
       "    <tr>\n",
       "      <th>3</th>\n",
       "      <td>55.000000</td>\n",
       "      <td>65.108299</td>\n",
       "    </tr>\n",
       "    <tr>\n",
       "      <th>4</th>\n",
       "      <td>107.292979</td>\n",
       "      <td>81.561661</td>\n",
       "    </tr>\n",
       "    <tr>\n",
       "      <th>...</th>\n",
       "      <td>...</td>\n",
       "      <td>...</td>\n",
       "    </tr>\n",
       "    <tr>\n",
       "      <th>63</th>\n",
       "      <td>115.367603</td>\n",
       "      <td>70.276118</td>\n",
       "    </tr>\n",
       "    <tr>\n",
       "      <th>64</th>\n",
       "      <td>1.493731</td>\n",
       "      <td>13.440707</td>\n",
       "    </tr>\n",
       "    <tr>\n",
       "      <th>65</th>\n",
       "      <td>134.425495</td>\n",
       "      <td>75.347478</td>\n",
       "    </tr>\n",
       "    <tr>\n",
       "      <th>66</th>\n",
       "      <td>21.000000</td>\n",
       "      <td>33.223427</td>\n",
       "    </tr>\n",
       "    <tr>\n",
       "      <th>67</th>\n",
       "      <td>67.629552</td>\n",
       "      <td>42.474100</td>\n",
       "    </tr>\n",
       "  </tbody>\n",
       "</table>\n",
       "<p>68 rows × 2 columns</p>\n",
       "</div>"
      ],
      "text/plain": [
       "        Actual  Predicted\n",
       "0    96.379324  59.887879\n",
       "1    49.127977  31.532635\n",
       "2    29.679876  30.049841\n",
       "3    55.000000  65.108299\n",
       "4   107.292979  81.561661\n",
       "..         ...        ...\n",
       "63  115.367603  70.276118\n",
       "64    1.493731  13.440707\n",
       "65  134.425495  75.347478\n",
       "66   21.000000  33.223427\n",
       "67   67.629552  42.474100\n",
       "\n",
       "[68 rows x 2 columns]"
      ]
     },
     "execution_count": 127,
     "metadata": {},
     "output_type": "execute_result"
    }
   ],
   "source": [
    "# Comparing Actual vs Predicted\n",
    "df = pd.DataFrame({'Actual': y_test, 'Predicted': y_pred})  \n",
    "df "
   ]
  },
  {
   "cell_type": "code",
   "execution_count": 129,
   "id": "dbcb71df",
   "metadata": {},
   "outputs": [
    {
     "name": "stdout",
     "output_type": "stream",
     "text": [
      "Mean Absolute Error: 21.216330760898362\n",
      "r2 Score : 0.578722686210376\n"
     ]
    }
   ],
   "source": [
    "#EVALUATING THE MODEL\n",
    "from sklearn import metrics  \n",
    "print('Mean Absolute Error:', \n",
    "      metrics.mean_absolute_error(y_test, y_pred)) \n",
    "print('r2 Score :',regressor.score(X,y))"
   ]
  },
  {
   "cell_type": "code",
   "execution_count": null,
   "id": "67f3cbc7",
   "metadata": {},
   "outputs": [],
   "source": []
  }
 ],
 "metadata": {
  "kernelspec": {
   "display_name": "Python 3 (ipykernel)",
   "language": "python",
   "name": "python3"
  },
  "language_info": {
   "codemirror_mode": {
    "name": "ipython",
    "version": 3
   },
   "file_extension": ".py",
   "mimetype": "text/x-python",
   "name": "python",
   "nbconvert_exporter": "python",
   "pygments_lexer": "ipython3",
   "version": "3.9.7"
  }
 },
 "nbformat": 4,
 "nbformat_minor": 5
}
